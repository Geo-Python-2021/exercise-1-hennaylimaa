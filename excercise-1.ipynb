{
 "cells": [
  {
   "cell_type": "code",
   "execution_count": 1,
   "id": "700c6866-0825-4a3f-bef5-78676b24436b",
   "metadata": {},
   "outputs": [],
   "source": [
    "#Problem 1\n",
    "ice_cream_rating = 7\n",
    "sleeping_rating = 9"
   ]
  },
  {
   "cell_type": "code",
   "execution_count": 2,
   "id": "dee2e8b9-5b50-48ea-a6de-0ee8ccc39480",
   "metadata": {},
   "outputs": [
    {
     "name": "stdout",
     "output_type": "stream",
     "text": [
      "Enter your first name:\n"
     ]
    },
    {
     "name": "stdin",
     "output_type": "stream",
     "text": [
      " Henna\n"
     ]
    },
    {
     "name": "stdout",
     "output_type": "stream",
     "text": [
      "Enter your last name:\n"
     ]
    },
    {
     "name": "stdin",
     "output_type": "stream",
     "text": [
      " Ylimaa\n"
     ]
    },
    {
     "name": "stdout",
     "output_type": "stream",
     "text": [
      "Henna Ylimaa\n"
     ]
    }
   ],
   "source": [
    "#Problem 2\n",
    "print(\"Enter your first name:\")\n",
    "first_name = input()\n",
    "\n",
    "print(\"Enter your last name:\")\n",
    "last_name = input()\n",
    "\n",
    "my_name = first_name + \" \" + last_name\n",
    "print(my_name)"
   ]
  },
  {
   "cell_type": "code",
   "execution_count": 3,
   "id": "552e53d8-c826-46d6-88b7-7e34730d3312",
   "metadata": {},
   "outputs": [
    {
     "name": "stdout",
     "output_type": "stream",
     "text": [
      "8.0\n"
     ]
    }
   ],
   "source": [
    "#Problem 3\n",
    "happiness_rating = (ice_cream_rating + sleeping_rating) / 2\n",
    "print(happiness_rating)"
   ]
  },
  {
   "cell_type": "code",
   "execution_count": 4,
   "id": "dcc313f4-33a1-477a-b28c-864f83e1d21a",
   "metadata": {},
   "outputs": [
    {
     "name": "stdout",
     "output_type": "stream",
     "text": [
      "<class 'int'>\n",
      "<class 'str'>\n",
      "<class 'float'>\n"
     ]
    }
   ],
   "source": [
    "#Problem 4\n",
    "print(type(ice_cream_rating))\n",
    "print(type(first_name))\n",
    "print(type(happiness_rating))"
   ]
  },
  {
   "cell_type": "markdown",
   "id": "7136941e-374f-4c46-bfc2-57c2a8baf74a",
   "metadata": {},
   "source": [
    "All the data types made sense and they were what I expected."
   ]
  },
  {
   "cell_type": "code",
   "execution_count": 5,
   "id": "d45c2737-1130-4dab-8aa1-ce013dcebd23",
   "metadata": {},
   "outputs": [
    {
     "name": "stdout",
     "output_type": "stream",
     "text": [
      "My name is Henna and I give eating ice cream a score of 7 out of 10!\n",
      "I am Henna Ylimaa and my sleeping enjoyment rating is 9 / 10!\n",
      "Based on the factors above, my happiness rating is 8.0 out of 10, or 80.0 %!\n"
     ]
    }
   ],
   "source": [
    "#Problem 5\n",
    "print(\"My name is \" + first_name + \" and I give eating ice cream a score of \" + str(ice_cream_rating) + \" out of 10!\")\n",
    "print(\"I am \" + my_name + \" and my sleeping enjoyment rating is \" + str(sleeping_rating) + \" / 10!\")\n",
    "print(\"Based on the factors above, my happiness rating is \" +  str(happiness_rating) + \" out of 10, or \" + str(happiness_rating * 10) + \" %!\")"
   ]
  },
  {
   "cell_type": "code",
   "execution_count": null,
   "id": "7835577b-f4eb-45d2-b50f-97bb74049bd4",
   "metadata": {},
   "outputs": [],
   "source": []
  }
 ],
 "metadata": {
  "kernelspec": {
   "display_name": "Python 3 (ipykernel)",
   "language": "python",
   "name": "python3"
  },
  "language_info": {
   "codemirror_mode": {
    "name": "ipython",
    "version": 3
   },
   "file_extension": ".py",
   "mimetype": "text/x-python",
   "name": "python",
   "nbconvert_exporter": "python",
   "pygments_lexer": "ipython3",
   "version": "3.8.10"
  }
 },
 "nbformat": 4,
 "nbformat_minor": 5
}
